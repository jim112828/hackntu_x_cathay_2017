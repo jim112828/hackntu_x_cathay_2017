{
 "cells": [
  {
   "cell_type": "markdown",
   "metadata": {},
   "source": [
    "# Setup"
   ]
  },
  {
   "cell_type": "code",
   "execution_count": 1,
   "metadata": {
    "collapsed": false
   },
   "outputs": [],
   "source": [
    "# basic python package\n",
    "from __future__ import print_function\n",
    "from __future__ import division\n",
    "from __future__ import unicode_literals\n",
    "\n",
    "import os\n",
    "import math\n",
    "\n",
    "%matplotlib inline\n",
    "import matplotlib.pylab as plt\n",
    "import numpy as np\n",
    "import pandas as pd"
   ]
  },
  {
   "cell_type": "code",
   "execution_count": 2,
   "metadata": {
    "collapsed": true
   },
   "outputs": [],
   "source": [
    "# spark related\n",
    "from pyspark.sql import DataFrameWriter\n",
    "sql = sqlContext.sql"
   ]
  },
  {
   "cell_type": "code",
   "execution_count": 3,
   "metadata": {
    "collapsed": false
   },
   "outputs": [
    {
     "data": {
      "text/plain": [
       "u'local[*]'"
      ]
     },
     "execution_count": 3,
     "metadata": {},
     "output_type": "execute_result"
    }
   ],
   "source": [
    "# spark context\n",
    "sc.master"
   ]
  },
  {
   "cell_type": "code",
   "execution_count": 4,
   "metadata": {
    "collapsed": false
   },
   "outputs": [
    {
     "name": "stdout",
     "output_type": "stream",
     "text": [
      "ls: ../../dataset/profile: No such file or directory\r\n"
     ]
    }
   ],
   "source": [
    "! ls ../../dataset/profile"
   ]
  },
  {
   "cell_type": "markdown",
   "metadata": {},
   "source": [
    "# Profile"
   ]
  },
  {
   "cell_type": "code",
   "execution_count": 5,
   "metadata": {
    "collapsed": false
   },
   "outputs": [],
   "source": [
    "profile_path = os.path.abspath('../dataset/profile/**/*.csv')"
   ]
  },
  {
   "cell_type": "code",
   "execution_count": 6,
   "metadata": {
    "collapsed": false
   },
   "outputs": [
    {
     "data": {
      "text/plain": [
       "[u'1,1083060338,F,I,292141,F,606063,3667420800,173.0289647440402,168.62583605184867,Y,Y,Y,Y,3696969600',\n",
       " u'2,2186820338,F,B,653673,B,122851,3291321600,200.84809884772136,1004.8535938607777,Y,Y,N,Y,3696969600',\n",
       " u'3,1966068338,M,D,373933,D,639201,3373574400,1589.205135410834,58.94475293467117,N,Y,N,N,3696969600',\n",
       " u'4,1650708338,M,D,39007,H,87913,3402950400,415.73561935499026,183.66420164840252,Y,Y,N,Y,3696969600',\n",
       " u'5,1335348338,F,G,254521,F,472657,3312921600,1225.8381529866247,3330.3261064497733,Y,Y,Y,Y,3696969600']"
      ]
     },
     "execution_count": 6,
     "metadata": {},
     "output_type": "execute_result"
    }
   ],
   "source": [
    "profile_text = sc.textFile(profile_path)\n",
    "profile_text.take(5)"
   ]
  },
  {
   "cell_type": "markdown",
   "metadata": {},
   "source": [
    "## Raw data to Spark Dataframe "
   ]
  },
  {
   "cell_type": "code",
   "execution_count": 7,
   "metadata": {
    "collapsed": false
   },
   "outputs": [
    {
     "name": "stdout",
     "output_type": "stream",
     "text": [
      "+-----------+----------+------+-----------+------------+------------+-------------+----------+------------------+------------------+----------------+---------+------------+-----------+--------------+\n",
      "|customer_id|birth_time|gender|contact_loc|contact_code|register_loc|register_code|start_time|               aum|        net_profit|credit_card_flag|loan_flag|deposit_flag|wealth_flag|partition_time|\n",
      "+-----------+----------+------+-----------+------------+------------+-------------+----------+------------------+------------------+----------------+---------+------------+-----------+--------------+\n",
      "|          1|1083060338|     F|          I|      292141|           F|       606063|3667420800| 173.0289647440402|168.62583605184867|               Y|        Y|           Y|          Y|    3696969600|\n",
      "|          2|2186820338|     F|          B|      653673|           B|       122851|3291321600|200.84809884772136|1004.8535938607777|               Y|        Y|           N|          Y|    3696969600|\n",
      "|          3|1966068338|     M|          D|      373933|           D|       639201|3373574400| 1589.205135410834| 58.94475293467117|               N|        Y|           N|          N|    3696969600|\n",
      "|          4|1650708338|     M|          D|       39007|           H|        87913|3402950400|415.73561935499026|183.66420164840252|               Y|        Y|           N|          Y|    3696969600|\n",
      "|          5|1335348338|     F|          G|      254521|           F|       472657|3312921600|1225.8381529866247|3330.3261064497733|               Y|        Y|           Y|          Y|    3696969600|\n",
      "+-----------+----------+------+-----------+------------+------------+-------------+----------+------------------+------------------+----------------+---------+------------+-----------+--------------+\n",
      "only showing top 5 rows\n",
      "\n"
     ]
    }
   ],
   "source": [
    "from pyspark.sql.types import *\n",
    "\n",
    "fields = [\n",
    "    StructField('customer_id', StringType(), False),\n",
    "    StructField('birth_time', LongType(), True),\n",
    "    StructField('gender', StringType(), True),\n",
    "    StructField('contact_loc', StringType(), True),\n",
    "    StructField('contact_code', StringType(), True),\n",
    "    StructField('register_loc', StringType(), True),\n",
    "    StructField('register_code', StringType(), True),\n",
    "    StructField('start_time', LongType(), True),\n",
    "    StructField('aum', DoubleType(), True),\n",
    "    StructField('net_profit', DoubleType(), True),\n",
    "    StructField('credit_card_flag', StringType(), True),\n",
    "    StructField('loan_flag', StringType(), True),\n",
    "    StructField('deposit_flag', StringType(), True),\n",
    "    StructField('wealth_flag', StringType(), True),\n",
    "    StructField('partition_time', LongType(), True)\n",
    "]\n",
    "\n",
    "schema = StructType(fields)\n",
    "\n",
    "def process_profile_line(l):\n",
    "    p = l.split(',')\n",
    "    # for LongType\n",
    "    for i in [1, 7, 14]:\n",
    "        p[i] = int(p[i])\n",
    "    # for DoubleType\n",
    "    for i in [8, 9]:\n",
    "        p[i] = float(p[i])\n",
    "    return p\n",
    "\n",
    "profile_df = profile_text \\\n",
    "    .map(process_profile_line) \\\n",
    "    .toDF(schema=schema)\n",
    "    \n",
    "profile_df.show(5)"
   ]
  },
  {
   "cell_type": "code",
   "execution_count": 8,
   "metadata": {
    "collapsed": false
   },
   "outputs": [
    {
     "data": {
      "text/plain": [
       "100"
      ]
     },
     "execution_count": 8,
     "metadata": {},
     "output_type": "execute_result"
    }
   ],
   "source": [
    "profile_df.count()"
   ]
  },
  {
   "cell_type": "markdown",
   "metadata": {},
   "source": [
    "# Event - CCTXN"
   ]
  },
  {
   "cell_type": "code",
   "execution_count": 9,
   "metadata": {
    "collapsed": false
   },
   "outputs": [
    {
     "data": {
      "text/plain": [
       "[u'customer_id,4,purchase_consumption,3696975741,merchant_nbr,VUAFPKBFAIENYETOLYIX,credit_card,GPSHLCABRIQBVOKVCUNK,\"{\\\\\"action\\\\\": {\\\\\"txn_amt\\\\\": 1173.4403405275684, \\\\\"original_currency_code\\\\\": \\\\\"TWD\\\\\"}, \\\\\"object\\\\\": {\\\\\"merchant_category_code\\\\\": \\\\\"05971\\\\\"}, \\\\\"channel\\\\\": {\\\\\"card_type\\\\\": \\\\\"B\\\\\", \\\\\"card_level\\\\\": \\\\\"5\\\\\"}}\",3696969600,cc_txn',\n",
       " u'customer_id,29,purchase_consumption,3696975741,merchant_nbr,VUAFPKBFAIENYETOLYIX,credit_card,GPSHLCABRIQBVOKVCUNK,\"{\\\\\"action\\\\\": {\\\\\"txn_amt\\\\\": 1173.4403405275684, \\\\\"original_currency_code\\\\\": \\\\\"TWD\\\\\"}, \\\\\"object\\\\\": {\\\\\"merchant_category_code\\\\\": \\\\\"05971\\\\\"}, \\\\\"channel\\\\\": {\\\\\"card_type\\\\\": \\\\\"B\\\\\", \\\\\"card_level\\\\\": \\\\\"5\\\\\"}}\",3696969600,cc_txn']"
      ]
     },
     "execution_count": 9,
     "metadata": {},
     "output_type": "execute_result"
    }
   ],
   "source": [
    "cctxn_text = sc.textFile(os.path.abspath('../dataset/cctxn/**/*.csv'))\n",
    "cctxn_text.take(2)"
   ]
  },
  {
   "cell_type": "code",
   "execution_count": 10,
   "metadata": {
    "collapsed": false
   },
   "outputs": [
    {
     "name": "stdout",
     "output_type": "stream",
     "text": [
      "+-----------+--------+--------------------+-----------+------------+--------------------+------------+--------------------+--------------------+--------------+------+\n",
      "| actor_type|actor_id|         action_type|action_time| object_type|           object_id|channel_type|          channel_id|               attrs|partition_time| theme|\n",
      "+-----------+--------+--------------------+-----------+------------+--------------------+------------+--------------------+--------------------+--------------+------+\n",
      "|customer_id|       4|purchase_consumption| 3696975741|merchant_nbr|VUAFPKBFAIENYETOLYIX| credit_card|GPSHLCABRIQBVOKVCUNK|{\"action\": {\"txn_...|    3696969600|cc_txn|\n",
      "|customer_id|      29|purchase_consumption| 3696975741|merchant_nbr|VUAFPKBFAIENYETOLYIX| credit_card|GPSHLCABRIQBVOKVCUNK|{\"action\": {\"txn_...|    3696969600|cc_txn|\n",
      "|customer_id|      18|purchase_consumption| 3696975866|merchant_nbr|HJMGNAQEFRZMCIDBHLSR| credit_card|GOBOOQKAPKTNJLDLXXDI|{\"action\": {\"txn_...|    3696969600|cc_txn|\n",
      "|customer_id|      43|purchase_consumption| 3696975866|merchant_nbr|HJMGNAQEFRZMCIDBHLSR| credit_card|GOBOOQKAPKTNJLDLXXDI|{\"action\": {\"txn_...|    3696969600|cc_txn|\n",
      "|customer_id|      15|purchase_consumption| 3696976193|merchant_nbr|AQPRQWDZXOLHYVJBTWFY| credit_card|WSBGQLGVXQBVEDZRVODM|{\"action\": {\"txn_...|    3696969600|cc_txn|\n",
      "+-----------+--------+--------------------+-----------+------------+--------------------+------------+--------------------+--------------------+--------------+------+\n",
      "only showing top 5 rows\n",
      "\n"
     ]
    }
   ],
   "source": [
    "import json\n",
    "\n",
    "fields = [\n",
    "    StructField('actor_type', StringType(), False),\n",
    "    StructField('actor_id', StringType(), True),\n",
    "    StructField('action_type', StringType(), True),\n",
    "    StructField('action_time', LongType(), True),\n",
    "    StructField('object_type', StringType(), True),\n",
    "    StructField('object_id', StringType(), True),\n",
    "    StructField('channel_type', StringType(), True),\n",
    "    StructField('channel_id', StringType(), True),\n",
    "    StructField('attrs', StringType(), True),\n",
    "    StructField('partition_time', LongType(), True),\n",
    "    StructField('theme', StringType(), True),\n",
    "]\n",
    "\n",
    "schema = StructType(fields)\n",
    "\n",
    "def process_profile_line(l):\n",
    "    p = l.split(',')\n",
    "    # pre\n",
    "    pre_fields = p[:8]\n",
    "    pre_fields[3] = int(pre_fields[3])\n",
    "    # post\n",
    "    post_fields = p[-2:]\n",
    "    post_fields[-2] = int(post_fields[-2])\n",
    "    # attrs\n",
    "    attrs = json.loads(','.join(p[8:-2]))\n",
    "    # concat fields\n",
    "    fields = pre_fields + [attrs] + post_fields\n",
    "    return fields\n",
    "\n",
    "cctxn_df = cctxn_text.map(process_profile_line).toDF(schema=schema)\n",
    "\n",
    "cctxn_df.show(5)"
   ]
  },
  {
   "cell_type": "markdown",
   "metadata": {},
   "source": [
    "##  Use JSON process \"attrs\""
   ]
  },
  {
   "cell_type": "code",
   "execution_count": 11,
   "metadata": {
    "collapsed": false
   },
   "outputs": [
    {
     "data": {
      "text/plain": [
       "[{u'action': {u'original_currency_code': u'TWD',\n",
       "   u'txn_amt': 1173.4403405275684},\n",
       "  u'channel': {u'card_level': u'5', u'card_type': u'B'},\n",
       "  u'object': {u'merchant_category_code': u'05971'}},\n",
       " {u'action': {u'original_currency_code': u'TWD',\n",
       "   u'txn_amt': 1173.4403405275684},\n",
       "  u'channel': {u'card_level': u'5', u'card_type': u'B'},\n",
       "  u'object': {u'merchant_category_code': u'05971'}},\n",
       " {u'action': {u'original_currency_code': u'TWD',\n",
       "   u'txn_amt': 177.63228741462754},\n",
       "  u'channel': {u'card_level': u'3', u'card_type': u'B'},\n",
       "  u'object': {u'merchant_category_code': u'03723'}}]"
      ]
     },
     "execution_count": 11,
     "metadata": {},
     "output_type": "execute_result"
    }
   ],
   "source": [
    "import json\n",
    "\n",
    "# return to RDD for unstructured data\n",
    "cctxn_attrs = cctxn_df.select(\"attrs\").rdd.map(lambda r: r.attrs).map(lambda x: json.loads(x))\n",
    "cctxn_attrs.take(3)"
   ]
  },
  {
   "cell_type": "markdown",
   "metadata": {},
   "source": [
    "## Count the number of each card level "
   ]
  },
  {
   "cell_type": "code",
   "execution_count": 12,
   "metadata": {
    "collapsed": false
   },
   "outputs": [
    {
     "data": {
      "text/plain": [
       "[(u'3', 624), (u'4', 566), (u'5', 460), (u'2', 334), (u'6', 224), (u'1', 134)]"
      ]
     },
     "execution_count": 12,
     "metadata": {},
     "output_type": "execute_result"
    }
   ],
   "source": [
    "cctxn_attrs.filter(lambda x: x['channel']['card_level'] is not None) \\\n",
    "    .map(lambda x: x['channel']['card_level']) \\\n",
    "    .map(lambda cl: (cl, 1)) \\\n",
    "    .reduceByKey(lambda x, y: x + y) \\\n",
    "    .sortBy(lambda x: -x[1]) \\\n",
    "    .collect()"
   ]
  },
  {
   "cell_type": "markdown",
   "metadata": {},
   "source": [
    "# Merge data from different theme"
   ]
  },
  {
   "cell_type": "markdown",
   "metadata": {},
   "source": [
    "## ATM "
   ]
  },
  {
   "cell_type": "code",
   "execution_count": 13,
   "metadata": {
    "collapsed": false
   },
   "outputs": [
    {
     "name": "stdout",
     "output_type": "stream",
     "text": [
      "+-----------+--------+-----------+-----------+-----------+--------------------+------------+--------------------+--------------------+--------------+-----+\n",
      "| actor_type|actor_id|action_type|action_time|object_type|           object_id|channel_type|          channel_id|               attrs|partition_time|theme|\n",
      "+-----------+--------+-----------+-----------+-----------+--------------------+------------+--------------------+--------------------+--------------+-----+\n",
      "|customer_id|      24|   transfer| 3696969655|saving_acct|RRQAIWQTVFEMFNHQRAKO|         ATM|BGZXUBVPWOQPFUBINYEW|{\"action\": {\"txn_...|    3696969600|  atm|\n",
      "|customer_id|      49|   transfer| 3696969655|saving_acct|RRQAIWQTVFEMFNHQRAKO|         ATM|BGZXUBVPWOQPFUBINYEW|{\"action\": {\"txn_...|    3696969600|  atm|\n",
      "|customer_id|       6|   withdraw| 3696971685|saving_acct|SICMEBNJDHPWWCVZJMUS|         ATM|VMZDTVFCDQNGPUHYFVBP|{\"action\": {\"txn_...|    3696969600|  atm|\n",
      "|customer_id|      31|   withdraw| 3696971685|saving_acct|SICMEBNJDHPWWCVZJMUS|         ATM|VMZDTVFCDQNGPUHYFVBP|{\"action\": {\"txn_...|    3696969600|  atm|\n",
      "|customer_id|      19|   withdraw| 3696983296|saving_acct|XTXFJVXEYQZOWNWNZVXJ|         ATM|GWDIGLGAJYUCPLLPKFYS|{\"action\": {\"txn_...|    3696969600|  atm|\n",
      "+-----------+--------+-----------+-----------+-----------+--------------------+------------+--------------------+--------------------+--------------+-----+\n",
      "only showing top 5 rows\n",
      "\n"
     ]
    }
   ],
   "source": [
    "atm_df = sc.textFile(os.path.abspath('../dataset/atm/**/*.csv')) \\\n",
    "    .map(process_profile_line) \\\n",
    "    .toDF(schema=schema)\n",
    "\n",
    "atm_df.show(5)"
   ]
  },
  {
   "cell_type": "markdown",
   "metadata": {},
   "source": [
    "## CTI "
   ]
  },
  {
   "cell_type": "code",
   "execution_count": 14,
   "metadata": {
    "collapsed": false
   },
   "outputs": [
    {
     "name": "stdout",
     "output_type": "stream",
     "text": [
      "+-----------+--------+-----------+-----------+------------+---------+----------------+--------------------+--------------------+--------------+-----+\n",
      "| actor_type|actor_id|action_type|action_time| object_type|object_id|    channel_type|          channel_id|               attrs|partition_time|theme|\n",
      "+-----------+--------+-----------+-----------+------------+---------+----------------+--------------------+--------------------+--------------+-----+\n",
      "|customer_id|       2|    inbound| 3696974030|call_purpose| 2_19_162|customer_service|personal_phone_se...|{\"action\": {\"call...|    3696969600|  cti|\n",
      "|customer_id|      27|    inbound| 3696974030|call_purpose| 2_19_162|customer_service|personal_phone_se...|{\"action\": {\"call...|    3696969600|  cti|\n",
      "|customer_id|       5|    inbound| 3696978134|call_purpose| 1_18_224|customer_service|personal_phone_se...|{\"action\": {\"call...|    3696969600|  cti|\n",
      "|customer_id|      30|    inbound| 3696978134|call_purpose| 1_18_224|customer_service|personal_phone_se...|{\"action\": {\"call...|    3696969600|  cti|\n",
      "|customer_id|       5|    inbound| 3696987105|call_purpose|  0_2_167|customer_service|personal_phone_se...|{\"action\": {\"call...|    3696969600|  cti|\n",
      "+-----------+--------+-----------+-----------+------------+---------+----------------+--------------------+--------------------+--------------+-----+\n",
      "only showing top 5 rows\n",
      "\n"
     ]
    }
   ],
   "source": [
    "cti_df = sc.textFile(os.path.abspath('../dataset/cti/**/*.csv')) \\\n",
    "    .map(process_profile_line) \\\n",
    "    .toDF(schema=schema)\n",
    "\n",
    "cti_df.show(5)"
   ]
  },
  {
   "cell_type": "markdown",
   "metadata": {},
   "source": [
    "## MyBank "
   ]
  },
  {
   "cell_type": "code",
   "execution_count": 15,
   "metadata": {
    "collapsed": false
   },
   "outputs": [
    {
     "name": "stdout",
     "output_type": "stream",
     "text": [
      "+-----------+--------+------------------+-----------+-------------------+--------------------+------------+----------+--------------------+--------------+------+\n",
      "| actor_type|actor_id|       action_type|action_time|        object_type|           object_id|channel_type|channel_id|               attrs|partition_time| theme|\n",
      "+-----------+--------+------------------+-----------+-------------------+--------------------+------------+----------+--------------------+--------------+------+\n",
      "|customer_id|      14|TWD_demand_deposit| 3696977211|credit_card_payment|ZXPQYYTMNBEQMAXCVXNI|     digital|       MMB|{\"action\": {\"amt\"...|    3696969600|mybank|\n",
      "|customer_id|      39|TWD_demand_deposit| 3696977211|credit_card_payment|ZXPQYYTMNBEQMAXCVXNI|     digital|       MMB|{\"action\": {\"amt\"...|    3696969600|mybank|\n",
      "|customer_id|      23|              fund| 3696978460|   general_purchase|PKYEOQSCYIJQROCCDIJX|     digital|       MMB|{\"action\": {\"amt\"...|    3696969600|mybank|\n",
      "|customer_id|      48|              fund| 3696978460|   general_purchase|PKYEOQSCYIJQROCCDIJX|     digital|       MMB|{\"action\": {\"amt\"...|    3696969600|mybank|\n",
      "|customer_id|      12|              fund| 3696980372|   general_purchase|HJMLYNLMTJMTUYBEKXSA|     digital|    MyBank|{\"action\": {\"amt\"...|    3696969600|mybank|\n",
      "+-----------+--------+------------------+-----------+-------------------+--------------------+------------+----------+--------------------+--------------+------+\n",
      "only showing top 5 rows\n",
      "\n"
     ]
    }
   ],
   "source": [
    "mybank_df = sc.textFile(os.path.abspath('../dataset/mybank/**/*.csv')) \\\n",
    "    .map(process_profile_line) \\\n",
    "    .toDF(schema=schema)\n",
    "\n",
    "mybank_df.show(5)"
   ]
  },
  {
   "cell_type": "markdown",
   "metadata": {},
   "source": [
    "## Union df "
   ]
  },
  {
   "cell_type": "code",
   "execution_count": 16,
   "metadata": {
    "collapsed": false
   },
   "outputs": [],
   "source": [
    "event_df = cctxn_df.union(atm_df).union(cti_df).union(mybank_df)"
   ]
  },
  {
   "cell_type": "code",
   "execution_count": 17,
   "metadata": {
    "collapsed": false
   },
   "outputs": [
    {
     "data": {
      "text/plain": [
       "5612"
      ]
     },
     "execution_count": 17,
     "metadata": {},
     "output_type": "execute_result"
    }
   ],
   "source": [
    "event_df.count()"
   ]
  },
  {
   "cell_type": "code",
   "execution_count": 18,
   "metadata": {
    "collapsed": false
   },
   "outputs": [],
   "source": [
    "event_cnt_df = event_df \\\n",
    "    .groupBy('actor_id') \\\n",
    "    .pivot('theme', ['cc_txn', 'atm', 'cti', 'mybank']) \\\n",
    "    .count() \\\n",
    "    .na.fill(0)"
   ]
  },
  {
   "cell_type": "code",
   "execution_count": 19,
   "metadata": {
    "collapsed": false
   },
   "outputs": [
    {
     "name": "stdout",
     "output_type": "stream",
     "text": [
      "+--------+------+---+---+------+\n",
      "|actor_id|cc_txn|atm|cti|mybank|\n",
      "+--------+------+---+---+------+\n",
      "|       7|    48| 67|  7|    10|\n",
      "|      15|    80| 43|  4|    37|\n",
      "|      11|    97| 25| 17|     8|\n",
      "|      29|    98| 40|  7|    14|\n",
      "|      42|     0|  1| 17|    34|\n",
      "+--------+------+---+---+------+\n",
      "only showing top 5 rows\n",
      "\n"
     ]
    }
   ],
   "source": [
    "event_cnt_df.show(5)"
   ]
  },
  {
   "cell_type": "markdown",
   "metadata": {},
   "source": [
    "# Profile with Events"
   ]
  },
  {
   "cell_type": "code",
   "execution_count": 20,
   "metadata": {
    "collapsed": false
   },
   "outputs": [
    {
     "data": {
      "text/plain": [
       "[3696969600, 3699475200]"
      ]
     },
     "execution_count": 20,
     "metadata": {},
     "output_type": "execute_result"
    }
   ],
   "source": [
    "times = profile_df \\\n",
    "    .select('partition_time') \\\n",
    "    .distinct() \\\n",
    "    .orderBy('partition_time') \\\n",
    "    .rdd.map(lambda x: x.partition_time) \\\n",
    "    .collect()\n",
    "\n",
    "times"
   ]
  },
  {
   "cell_type": "code",
   "execution_count": 21,
   "metadata": {
    "collapsed": true
   },
   "outputs": [],
   "source": [
    "start_profile_df = profile_df.where('partition_time={}'.format(times[0]))\n",
    "end_profile_df = profile_df.where('partition_time={}'.format(times[1]))"
   ]
  },
  {
   "cell_type": "code",
   "execution_count": 22,
   "metadata": {
    "collapsed": false
   },
   "outputs": [
    {
     "name": "stdout",
     "output_type": "stream",
     "text": [
      "+-----------+----------+------+-----------+------------+------------+-------------+----------+------------------+------------------+----------------+---------+------------+-----------+--------------+\n",
      "|customer_id|birth_time|gender|contact_loc|contact_code|register_loc|register_code|start_time|               aum|        net_profit|credit_card_flag|loan_flag|deposit_flag|wealth_flag|partition_time|\n",
      "+-----------+----------+------+-----------+------------+------------+-------------+----------+------------------+------------------+----------------+---------+------------+-----------+--------------+\n",
      "|          1|1083060338|     F|          I|      292141|           F|       606063|3667420800| 173.0289647440402|168.62583605184867|               Y|        Y|           Y|          Y|    3696969600|\n",
      "|          2|2186820338|     F|          B|      653673|           B|       122851|3291321600|200.84809884772136|1004.8535938607777|               Y|        Y|           N|          Y|    3696969600|\n",
      "|          3|1966068338|     M|          D|      373933|           D|       639201|3373574400| 1589.205135410834| 58.94475293467117|               N|        Y|           N|          N|    3696969600|\n",
      "|          4|1650708338|     M|          D|       39007|           H|        87913|3402950400|415.73561935499026|183.66420164840252|               Y|        Y|           N|          Y|    3696969600|\n",
      "|          5|1335348338|     F|          G|      254521|           F|       472657|3312921600|1225.8381529866247|3330.3261064497733|               Y|        Y|           Y|          Y|    3696969600|\n",
      "+-----------+----------+------+-----------+------------+------------+-------------+----------+------------------+------------------+----------------+---------+------------+-----------+--------------+\n",
      "only showing top 5 rows\n",
      "\n"
     ]
    }
   ],
   "source": [
    "start_profile_df.show(5)"
   ]
  },
  {
   "cell_type": "code",
   "execution_count": 23,
   "metadata": {
    "collapsed": true
   },
   "outputs": [],
   "source": [
    "start_profile_df.registerTempTable('start_profile')\n",
    "end_profile_df.registerTempTable('end_profile')\n",
    "event_cnt_df.registerTempTable('event_cnt')"
   ]
  },
  {
   "cell_type": "code",
   "execution_count": 24,
   "metadata": {
    "collapsed": false
   },
   "outputs": [],
   "source": [
    "sql(\"\"\"\n",
    "    select \n",
    "        a.*,\n",
    "        p1.credit_card_flag as start_cc,\n",
    "        p1.loan_flag as start_loan,\n",
    "        p1.deposit_flag as start_deposit,\n",
    "        p1.wealth_flag as start_wealth,\n",
    "        p2.credit_card_flag as end_cc,\n",
    "        p2.loan_flag as end_loan,\n",
    "        p2.deposit_flag as end_deposit,\n",
    "        p2.wealth_flag as end_wealth\n",
    "    from event_cnt a\n",
    "    join start_profile p1\n",
    "        on a.actor_id=p1.customer_id\n",
    "    join end_profile p2\n",
    "        on a.actor_id=p2.customer_id\n",
    "    order by actor_id\n",
    "\"\"\").registerTempTable('actor_status')"
   ]
  },
  {
   "cell_type": "code",
   "execution_count": 25,
   "metadata": {
    "collapsed": false
   },
   "outputs": [
    {
     "name": "stdout",
     "output_type": "stream",
     "text": [
      "+--------+------+---+---+------+--------+----------+-------------+------------+------+--------+-----------+----------+\n",
      "|actor_id|cc_txn|atm|cti|mybank|start_cc|start_loan|start_deposit|start_wealth|end_cc|end_loan|end_deposit|end_wealth|\n",
      "+--------+------+---+---+------+--------+----------+-------------+------------+------+--------+-----------+----------+\n",
      "|       1|     6|  8|  8|     6|       Y|         Y|            Y|           Y|     Y|       Y|          Y|         N|\n",
      "|      10|    74| 15| 13|     3|       N|         Y|            N|           N|     N|       N|          Y|         Y|\n",
      "|      11|    97| 25| 17|     8|       Y|         N|            Y|           Y|     Y|       N|          Y|         Y|\n",
      "|      12|    96| 54| 18|    27|       Y|         Y|            Y|           N|     Y|       Y|          N|         N|\n",
      "|      13|     8|  6|  6|     8|       Y|         Y|            Y|           Y|     Y|       Y|          Y|         N|\n",
      "|      14|    13| 29| 14|    24|       Y|         Y|            N|           Y|     Y|       Y|          N|         Y|\n",
      "|      15|    80| 43|  4|    37|       N|         Y|            N|           N|     Y|       N|          N|         N|\n",
      "|      16|    23| 23| 19|    32|       Y|         Y|            N|           Y|     N|       Y|          N|         N|\n",
      "|      17|     0|  1| 17|    34|       Y|         Y|            Y|           Y|     N|       Y|          Y|         N|\n",
      "|      18|    45| 64| 18|     2|       Y|         N|            N|           N|     N|       N|          Y|         N|\n",
      "+--------+------+---+---+------+--------+----------+-------------+------------+------+--------+-----------+----------+\n",
      "only showing top 10 rows\n",
      "\n"
     ]
    }
   ],
   "source": [
    "sql(\"\"\"\n",
    "    select * from actor_status\n",
    "\"\"\").show(10)"
   ]
  },
  {
   "cell_type": "markdown",
   "metadata": {},
   "source": [
    "# Play with KMeans"
   ]
  },
  {
   "cell_type": "code",
   "execution_count": 26,
   "metadata": {
    "collapsed": false
   },
   "outputs": [],
   "source": [
    "from pyspark.sql.functions import col\n",
    "from pyspark.ml import Pipeline\n",
    "from pyspark.ml.feature import StandardScaler, VectorAssembler\n",
    "from pyspark.ml.clustering import KMeans"
   ]
  },
  {
   "cell_type": "code",
   "execution_count": 27,
   "metadata": {
    "collapsed": false
   },
   "outputs": [
    {
     "name": "stdout",
     "output_type": "stream",
     "text": [
      "+--------+------------------+--------------------+------------------+--------------------+\n",
      "|actor_id|       cctxn_score|           atm_score|         cti_score|        mybank_score|\n",
      "+--------+------------------+--------------------+------------------+--------------------+\n",
      "|       1|1.7917761357558344|  2.0794540416017115|2.0794540416017115|  1.7917761357558344|\n",
      "|      10| 4.304066444554608|  2.7080568677466546|2.5649570497396432|     1.0986456214459|\n",
      "|      11| 4.574712009430686|   3.218879824860201| 2.833219226391856|  2.0794540416017115|\n",
      "|      12|  4.56434923313396|  3.9889858984144118| 2.890377313436288|   3.295840569701174|\n",
      "|      13|2.0794540416017115|  1.7917761357558344|1.7917761357558344|  2.0794540416017115|\n",
      "|      14|2.5649570497396432|   3.367299278256391|2.6390644724468912|   3.178057997005932|\n",
      "|      15|   4.3820278846731|   3.761202441272254|1.3863193608073958|   3.610920615343275|\n",
      "|      16| 3.135498563745785|   3.135498563745785| 2.944444242310485|   3.465739027794844|\n",
      "|      17|-9.210340371976182|9.999500033329732E-5| 2.833219226391856|   3.526363465788307|\n",
      "|      18|3.8066647119900727|   4.158884645858452| 2.890377313436288|   0.693197179309987|\n",
      "|      19|3.8066647119900727|   3.178057997005932| 2.302595092944046|  -9.210340371976182|\n",
      "|       2|2.4849149830866115|  3.8712030942390543| 1.945924434667559|  2.0794540416017115|\n",
      "|      20| 3.433990430286395|   4.394450389239578|   1.0986456214459|9.999500033329732E-5|\n",
      "|      21|3.5553509186281893|   4.248496670619767|  2.77259497222025|   3.178057997005932|\n",
      "|      22| 4.189656257176793|   2.944444242310485|2.7080568677466546|   2.833219226391856|\n",
      "|      23|2.6390644724468912|   2.302595092944046|2.5649570497396432|   3.295840569701174|\n",
      "|      24|1.3863193608073958|   4.430817989318795| 1.609457912234103|   1.945924434667559|\n",
      "|      25|  4.02535347644784|  3.9512456416565014|2.5649570497396432|  2.0794540416017115|\n",
      "|      26|1.7917761357558344|  2.0794540416017115|2.0794540416017115|  1.7917761357558344|\n",
      "|      27|2.4849149830866115|  3.8712030942390543| 1.945924434667559|  2.0794540416017115|\n",
      "+--------+------------------+--------------------+------------------+--------------------+\n",
      "only showing top 20 rows\n",
      "\n"
     ]
    }
   ],
   "source": [
    "dataset = sql(\"\"\"\n",
    "    select \n",
    "        actor_id,\n",
    "        log(cast(cc_txn as double) + 0.0001) as cctxn_score,\n",
    "        log(cast(atm as double) + 0.0001) as atm_score,\n",
    "        log(cast(cti as double) + 0.0001) as cti_score,\n",
    "        log(cast(mybank as double) + 0.0001) as mybank_score\n",
    "    from actor_status\n",
    "\"\"\")\n",
    "\n",
    "dataset.show()"
   ]
  },
  {
   "cell_type": "markdown",
   "metadata": {},
   "source": [
    "## Feature engineering + KMeans "
   ]
  },
  {
   "cell_type": "code",
   "execution_count": 28,
   "metadata": {
    "collapsed": false
   },
   "outputs": [],
   "source": [
    "cluster_num = 2\n",
    "feature_cols = ['cctxn_score', 'atm_score', 'cti_score', 'mybank_score']\n",
    "\n",
    "# Combine selected columns to generate vector column\n",
    "assembler = VectorAssembler(\n",
    "    inputCols=feature_cols,\n",
    "    outputCol='features')\n",
    "\n",
    "# Standard Scaler\n",
    "scaler = StandardScaler(inputCol=\"features\", outputCol=\"scaled_features\",\n",
    "                       withStd=True, withMean=True)\n",
    "\n",
    "# KMeans\n",
    "kmeans = KMeans(k=cluster_num, featuresCol=\"scaled_features\", seed=1)\n",
    "\n",
    "# pipeline\n",
    "pipeline = Pipeline(stages=[assembler, scaler, kmeans])\n",
    "pipelineModel = pipeline.fit(dataset)"
   ]
  },
  {
   "cell_type": "code",
   "execution_count": 29,
   "metadata": {
    "collapsed": false
   },
   "outputs": [
    {
     "data": {
      "text/plain": [
       "[array([ 0.18934586,  0.13407161, -0.03934054, -0.02645024]),\n",
       " array([-4.54430075, -3.21771865,  0.94417303,  0.6348057 ])]"
      ]
     },
     "execution_count": 29,
     "metadata": {},
     "output_type": "execute_result"
    }
   ],
   "source": [
    "kmeans_model = pipelineModel.stages[2]\n",
    "centers = kmeans_model.clusterCenters()\n",
    "centers"
   ]
  },
  {
   "cell_type": "code",
   "execution_count": 30,
   "metadata": {
    "collapsed": false
   },
   "outputs": [
    {
     "name": "stdout",
     "output_type": "stream",
     "text": [
      "+--------+------------------+--------------------+------------------+------------------+----------+\n",
      "|actor_id|       cctxn_score|           atm_score|         cti_score|      mybank_score|prediction|\n",
      "+--------+------------------+--------------------+------------------+------------------+----------+\n",
      "|       1|1.7917761357558344|  2.0794540416017115|2.0794540416017115|1.7917761357558344|         0|\n",
      "|      10| 4.304066444554608|  2.7080568677466546|2.5649570497396432|   1.0986456214459|         0|\n",
      "|      11| 4.574712009430686|   3.218879824860201| 2.833219226391856|2.0794540416017115|         0|\n",
      "|      12|  4.56434923313396|  3.9889858984144118| 2.890377313436288| 3.295840569701174|         0|\n",
      "|      13|2.0794540416017115|  1.7917761357558344|1.7917761357558344|2.0794540416017115|         0|\n",
      "|      14|2.5649570497396432|   3.367299278256391|2.6390644724468912| 3.178057997005932|         0|\n",
      "|      15|   4.3820278846731|   3.761202441272254|1.3863193608073958| 3.610920615343275|         0|\n",
      "|      16| 3.135498563745785|   3.135498563745785| 2.944444242310485| 3.465739027794844|         0|\n",
      "|      17|-9.210340371976182|9.999500033329732E-5| 2.833219226391856| 3.526363465788307|         1|\n",
      "|      18|3.8066647119900727|   4.158884645858452| 2.890377313436288| 0.693197179309987|         0|\n",
      "+--------+------------------+--------------------+------------------+------------------+----------+\n",
      "only showing top 10 rows\n",
      "\n"
     ]
    }
   ],
   "source": [
    "predicted_df = pipelineModel.transform(dataset)\n",
    "predicted_df.select(['actor_id', 'cctxn_score', 'atm_score', 'cti_score', 'mybank_score', 'prediction']).show(10)"
   ]
  },
  {
   "cell_type": "code",
   "execution_count": 31,
   "metadata": {
    "collapsed": false
   },
   "outputs": [],
   "source": [
    "X = predicted_df.rdd.map(lambda r: r.scaled_features.toArray()).collect()\n",
    "y = predicted_df.rdd.map(lambda r: r.prediction).collect()"
   ]
  },
  {
   "cell_type": "code",
   "execution_count": 32,
   "metadata": {
    "collapsed": false
   },
   "outputs": [
    {
     "data": {
      "text/plain": [
       "((50, 4), (50,))"
      ]
     },
     "execution_count": 32,
     "metadata": {},
     "output_type": "execute_result"
    }
   ],
   "source": [
    "X = np.array(X)\n",
    "y = np.array(y)\n",
    "\n",
    "X.shape, y.shape"
   ]
  },
  {
   "cell_type": "code",
   "execution_count": 33,
   "metadata": {
    "collapsed": false
   },
   "outputs": [
    {
     "data": {
      "image/png": "[encoded data removed]",
      "text/plain": [
       "<matplotlib.figure.Figure at 0x117b1dfd0>"
      ]
     },
     "metadata": {},
     "output_type": "display_data"
    }
   ],
   "source": [
    "from sklearn.manifold import TSNE\n",
    "import matplotlib.cm as cm\n",
    "\n",
    "colors = cm.rainbow(np.linspace(0, 1, cluster_num))\n",
    "tsne = TSNE(perplexity=30, n_components=2, init='pca', n_iter=5000)\n",
    "points = tsne.fit_transform(X)\n",
    "plt.figure(figsize=(10, 6))\n",
    "plt.xlabel('comp 1')\n",
    "plt.ylabel('comp 2')\n",
    "for p_c in zip(points,  colors[y]):\n",
    "    plt.scatter(p_c[0][0], p_c[0][1], color=p_c[1])"
   ]
  },
  {
   "cell_type": "markdown",
   "metadata": {},
   "source": [
    "# Dataframe save and load"
   ]
  },
  {
   "cell_type": "code",
   "execution_count": 34,
   "metadata": {
    "collapsed": true
   },
   "outputs": [],
   "source": [
    "predicted_df.write.save(\"df-result\", mode=\"overwrite\", format=\"parquet\")"
   ]
  },
  {
   "cell_type": "code",
   "execution_count": 35,
   "metadata": {
    "collapsed": false
   },
   "outputs": [],
   "source": [
    "from pyspark.sql import DataFrameReader\n",
    "\n",
    "loaded_df = spark.read.load(\"df-result\")"
   ]
  },
  {
   "cell_type": "code",
   "execution_count": 36,
   "metadata": {
    "collapsed": false
   },
   "outputs": [
    {
     "name": "stdout",
     "output_type": "stream",
     "text": [
      "+--------+------------------+------------------+------------------+------------------+--------------------+--------------------+----------+\n",
      "|actor_id|       cctxn_score|         atm_score|         cti_score|      mybank_score|            features|     scaled_features|prediction|\n",
      "+--------+------------------+------------------+------------------+------------------+--------------------+--------------------+----------+\n",
      "|      16| 3.135498563745785| 3.135498563745785| 2.944444242310485| 3.465739027794844|[3.13549856374578...|[0.03776650618432...|         0|\n",
      "|      30|2.6390644724468912| 4.330734656074939|2.6390644724468912| 3.258100384167932|[2.63906447244689...|[-0.1464813531569...|         0|\n",
      "|      41| 3.135498563745785| 3.135498563745785| 2.944444242310485| 3.465739027794844|[3.13549856374578...|[0.03776650618432...|         0|\n",
      "|       5|2.6390644724468912| 4.330734656074939|2.6390644724468912| 3.258100384167932|[2.63906447244689...|[-0.1464813531569...|         0|\n",
      "|      13|2.0794540416017115|1.7917761357558344|1.7917761357558344|2.0794540416017115|[2.07945404160171...|[-0.3541766459569...|         0|\n",
      "+--------+------------------+------------------+------------------+------------------+--------------------+--------------------+----------+\n",
      "only showing top 5 rows\n",
      "\n"
     ]
    }
   ],
   "source": [
    "loaded_df.show(5)"
   ]
  },
  {
   "cell_type": "markdown",
   "metadata": {},
   "source": [
    "# Thanks for your attending HackNTU X Cathay 2017!"
   ]
  },
  {
   "cell_type": "code",
   "execution_count": null,
   "metadata": {
    "collapsed": true
   },
   "outputs": [],
   "source": []
  }
 ],
 "metadata": {
  "anaconda-cloud": {},
  "kernelspec": {
   "display_name": "Python [conda root]",
   "language": "python",
   "name": "conda-root-py"
  },
  "language_info": {
   "codemirror_mode": {
    "name": "ipython",
    "version": 2
   },
   "file_extension": ".py",
   "mimetype": "text/x-python",
   "name": "python",
   "nbconvert_exporter": "python",
   "pygments_lexer": "ipython2",
   "version": "2.7.12"
  }
 },
 "nbformat": 4,
 "nbformat_minor": 1
}
